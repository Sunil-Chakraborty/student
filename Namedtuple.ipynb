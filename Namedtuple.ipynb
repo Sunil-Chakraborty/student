{
 "cells": [
  {
   "cell_type": "code",
   "execution_count": 1,
   "id": "660f808f",
   "metadata": {},
   "outputs": [],
   "source": [
    "from collections import namedtuple"
   ]
  },
  {
   "cell_type": "code",
   "execution_count": 2,
   "id": "cb118d10",
   "metadata": {},
   "outputs": [],
   "source": [
    "Point_2d=namedtuple('Point_2d',['x','y'])"
   ]
  },
  {
   "cell_type": "code",
   "execution_count": 8,
   "id": "68f2edcb",
   "metadata": {},
   "outputs": [],
   "source": [
    "new_point=Point_2d(50,100)"
   ]
  },
  {
   "cell_type": "code",
   "execution_count": 9,
   "id": "41e62cce",
   "metadata": {},
   "outputs": [
    {
     "data": {
      "text/plain": [
       "Point_2d(x=50, y=100)"
      ]
     },
     "execution_count": 9,
     "metadata": {},
     "output_type": "execute_result"
    }
   ],
   "source": [
    "new_point"
   ]
  },
  {
   "cell_type": "code",
   "execution_count": 10,
   "id": "d431c9be",
   "metadata": {},
   "outputs": [
    {
     "name": "stdout",
     "output_type": "stream",
     "text": [
      "True\n",
      "True\n"
     ]
    }
   ],
   "source": [
    "print(isinstance(new_point,tuple))\n",
    "print(isinstance(new_point,Point_2d))"
   ]
  },
  {
   "cell_type": "code",
   "execution_count": 11,
   "id": "a624761e",
   "metadata": {},
   "outputs": [
    {
     "name": "stdout",
     "output_type": "stream",
     "text": [
      "50,100\n"
     ]
    }
   ],
   "source": [
    "#unpacking tuple\n",
    "x,y = new_point\n",
    "print(f'{x},{y}')"
   ]
  },
  {
   "cell_type": "code",
   "execution_count": 12,
   "id": "db372b93",
   "metadata": {},
   "outputs": [
    {
     "name": "stdout",
     "output_type": "stream",
     "text": [
      "(50,100)\n"
     ]
    }
   ],
   "source": [
    "#index number\n",
    "x=new_point[0]\n",
    "y=new_point[1]\n",
    "print(f'({x},{y})')"
   ]
  },
  {
   "cell_type": "code",
   "execution_count": 14,
   "id": "86890f7a",
   "metadata": {},
   "outputs": [
    {
     "name": "stdout",
     "output_type": "stream",
     "text": [
      "50\n",
      "100\n"
     ]
    }
   ],
   "source": [
    "#iterate over new_point\n",
    "for item in new_point:\n",
    "    print(item)"
   ]
  },
  {
   "cell_type": "code",
   "execution_count": null,
   "id": "ae7041c4",
   "metadata": {},
   "outputs": [],
   "source": []
  }
 ],
 "metadata": {
  "kernelspec": {
   "display_name": "Python 3 (ipykernel)",
   "language": "python",
   "name": "python3"
  },
  "language_info": {
   "codemirror_mode": {
    "name": "ipython",
    "version": 3
   },
   "file_extension": ".py",
   "mimetype": "text/x-python",
   "name": "python",
   "nbconvert_exporter": "python",
   "pygments_lexer": "ipython3",
   "version": "3.9.7"
  }
 },
 "nbformat": 4,
 "nbformat_minor": 5
}
